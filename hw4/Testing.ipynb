{
 "cells": [
  {
   "cell_type": "code",
   "execution_count": 1,
   "metadata": {},
   "outputs": [
    {
     "name": "stderr",
     "output_type": "stream",
     "text": [
      "/anaconda3/lib/python3.6/importlib/_bootstrap.py:219: RuntimeWarning: compiletime version 3.5 of module 'tensorflow.python.framework.fast_tensor_util' does not match runtime version 3.6\n",
      "  return f(*args, **kwds)\n"
     ]
    },
    {
     "name": "stdout",
     "output_type": "stream",
     "text": [
      "Compiling /Users/aaron/.mujoco/mujoco-py/mujoco_py/cymj.pyx because it changed.\n",
      "[1/1] Cythonizing /Users/aaron/.mujoco/mujoco-py/mujoco_py/cymj.pyx\n",
      "running build_ext\n",
      "building 'mujoco_py.cymj' extension\n",
      "creating /Users/aaron/.mujoco/mujoco-py/mujoco_py/generated/_pyxbld_1.50.1.56_36_macextensionbuilder\n",
      "creating /Users/aaron/.mujoco/mujoco-py/mujoco_py/generated/_pyxbld_1.50.1.56_36_macextensionbuilder/temp.macosx-10.7-x86_64-3.6\n",
      "creating /Users/aaron/.mujoco/mujoco-py/mujoco_py/generated/_pyxbld_1.50.1.56_36_macextensionbuilder/temp.macosx-10.7-x86_64-3.6/Users\n",
      "creating /Users/aaron/.mujoco/mujoco-py/mujoco_py/generated/_pyxbld_1.50.1.56_36_macextensionbuilder/temp.macosx-10.7-x86_64-3.6/Users/aaron\n",
      "creating /Users/aaron/.mujoco/mujoco-py/mujoco_py/generated/_pyxbld_1.50.1.56_36_macextensionbuilder/temp.macosx-10.7-x86_64-3.6/Users/aaron/.mujoco\n",
      "creating /Users/aaron/.mujoco/mujoco-py/mujoco_py/generated/_pyxbld_1.50.1.56_36_macextensionbuilder/temp.macosx-10.7-x86_64-3.6/Users/aaron/.mujoco/mujoco-py\n",
      "creating /Users/aaron/.mujoco/mujoco-py/mujoco_py/generated/_pyxbld_1.50.1.56_36_macextensionbuilder/temp.macosx-10.7-x86_64-3.6/Users/aaron/.mujoco/mujoco-py/mujoco_py\n",
      "creating /Users/aaron/.mujoco/mujoco-py/mujoco_py/generated/_pyxbld_1.50.1.56_36_macextensionbuilder/temp.macosx-10.7-x86_64-3.6/Users/aaron/.mujoco/mujoco-py/mujoco_py/gl\n",
      "/usr/local/bin/gcc-6 -Wno-unused-result -Wsign-compare -Wunreachable-code -DNDEBUG -g -fwrapv -O3 -Wall -I/anaconda3/include -arch x86_64 -I/anaconda3/include -arch x86_64 -DONMAC -I/Users/aaron/.mujoco/mujoco-py/mujoco_py -I/Users/aaron/.mujoco/mjpro150/include -I/anaconda3/lib/python3.6/site-packages/numpy/core/include -I/anaconda3/include/python3.6m -c /Users/aaron/.mujoco/mujoco-py/mujoco_py/cymj.c -o /Users/aaron/.mujoco/mujoco-py/mujoco_py/generated/_pyxbld_1.50.1.56_36_macextensionbuilder/temp.macosx-10.7-x86_64-3.6/Users/aaron/.mujoco/mujoco-py/mujoco_py/cymj.o -fopenmp -w\n",
      "/usr/local/bin/gcc-6 -Wno-unused-result -Wsign-compare -Wunreachable-code -DNDEBUG -g -fwrapv -O3 -Wall -I/anaconda3/include -arch x86_64 -I/anaconda3/include -arch x86_64 -DONMAC -I/Users/aaron/.mujoco/mujoco-py/mujoco_py -I/Users/aaron/.mujoco/mjpro150/include -I/anaconda3/lib/python3.6/site-packages/numpy/core/include -I/anaconda3/include/python3.6m -c /Users/aaron/.mujoco/mujoco-py/mujoco_py/gl/dummyshim.c -o /Users/aaron/.mujoco/mujoco-py/mujoco_py/generated/_pyxbld_1.50.1.56_36_macextensionbuilder/temp.macosx-10.7-x86_64-3.6/Users/aaron/.mujoco/mujoco-py/mujoco_py/gl/dummyshim.o -fopenmp -w\n",
      "creating /Users/aaron/.mujoco/mujoco-py/mujoco_py/generated/_pyxbld_1.50.1.56_36_macextensionbuilder/lib.macosx-10.7-x86_64-3.6\n",
      "creating /Users/aaron/.mujoco/mujoco-py/mujoco_py/generated/_pyxbld_1.50.1.56_36_macextensionbuilder/lib.macosx-10.7-x86_64-3.6/mujoco_py\n",
      "/usr/local/bin/gcc-6 -bundle -undefined dynamic_lookup -L/anaconda3/lib -arch x86_64 -L/anaconda3/lib -arch x86_64 -arch x86_64 /Users/aaron/.mujoco/mujoco-py/mujoco_py/generated/_pyxbld_1.50.1.56_36_macextensionbuilder/temp.macosx-10.7-x86_64-3.6/Users/aaron/.mujoco/mujoco-py/mujoco_py/cymj.o /Users/aaron/.mujoco/mujoco-py/mujoco_py/generated/_pyxbld_1.50.1.56_36_macextensionbuilder/temp.macosx-10.7-x86_64-3.6/Users/aaron/.mujoco/mujoco-py/mujoco_py/gl/dummyshim.o -L/Users/aaron/.mujoco/mjpro150/bin -L/anaconda3/lib -L/Users/aaron/.mujoco/mjpro150/bin -lmujoco150 -lglfw.3 -o /Users/aaron/.mujoco/mujoco-py/mujoco_py/generated/_pyxbld_1.50.1.56_36_macextensionbuilder/lib.macosx-10.7-x86_64-3.6/mujoco_py/cymj.cpython-36m-darwin.so -fopenmp\n"
     ]
    }
   ],
   "source": [
    "import numpy as np\n",
    "import tensorflow as tf\n",
    "import gym\n",
    "from cheetah_env import HalfCheetahEnvNew"
   ]
  },
  {
   "cell_type": "code",
   "execution_count": 3,
   "metadata": {},
   "outputs": [
    {
     "name": "stderr",
     "output_type": "stream",
     "text": [
      "[2018-06-25 08:39:43,396] Making new env: HalfCheetah-v2\n"
     ]
    }
   ],
   "source": [
    "env = gym.make('HalfCheetah-v2')"
   ]
  },
  {
   "cell_type": "code",
   "execution_count": 4,
   "metadata": {
    "collapsed": true
   },
   "outputs": [],
   "source": [
    "actions = env.action_space"
   ]
  },
  {
   "cell_type": "code",
   "execution_count": 6,
   "metadata": {},
   "outputs": [
    {
     "data": {
      "text/plain": [
       "(6,)"
      ]
     },
     "execution_count": 6,
     "metadata": {},
     "output_type": "execute_result"
    }
   ],
   "source": [
    "actions.shape"
   ]
  },
  {
   "cell_type": "code",
   "execution_count": 8,
   "metadata": {
    "collapsed": true
   },
   "outputs": [],
   "source": [
    "obs = env.observation_space"
   ]
  },
  {
   "cell_type": "code",
   "execution_count": 9,
   "metadata": {},
   "outputs": [
    {
     "data": {
      "text/plain": [
       "(17,)"
      ]
     },
     "execution_count": 9,
     "metadata": {},
     "output_type": "execute_result"
    }
   ],
   "source": [
    "obs.shape"
   ]
  },
  {
   "cell_type": "code",
   "execution_count": 11,
   "metadata": {},
   "outputs": [
    {
     "data": {
      "text/plain": [
       "array([ 0.09762701,  0.43037873,  0.20552675,  0.08976637, -0.1526904 ,\n",
       "        0.29178823])"
      ]
     },
     "execution_count": 11,
     "metadata": {},
     "output_type": "execute_result"
    }
   ],
   "source": [
    "actions.sample()"
   ]
  },
  {
   "cell_type": "code",
   "execution_count": 16,
   "metadata": {
    "collapsed": true
   },
   "outputs": [],
   "source": [
    "x = np.array([[0,0,0], [1,1,1]])"
   ]
  },
  {
   "cell_type": "code",
   "execution_count": 17,
   "metadata": {
    "collapsed": true
   },
   "outputs": [],
   "source": [
    "x[0][0] = 1"
   ]
  },
  {
   "cell_type": "code",
   "execution_count": 18,
   "metadata": {},
   "outputs": [
    {
     "data": {
      "text/plain": [
       "array([1, 0, 0])"
      ]
     },
     "execution_count": 18,
     "metadata": {},
     "output_type": "execute_result"
    }
   ],
   "source": [
    "x[0]"
   ]
  },
  {
   "cell_type": "code",
   "execution_count": 20,
   "metadata": {
    "collapsed": true
   },
   "outputs": [],
   "source": [
    "action = [env.action_space.sample() for _ in range(10)]"
   ]
  },
  {
   "cell_type": "code",
   "execution_count": 23,
   "metadata": {},
   "outputs": [
    {
     "data": {
      "text/plain": [
       "(10, 6)"
      ]
     },
     "execution_count": 23,
     "metadata": {},
     "output_type": "execute_result"
    }
   ],
   "source": [
    "np.array(action).shape"
   ]
  },
  {
   "cell_type": "code",
   "execution_count": 24,
   "metadata": {
    "collapsed": true
   },
   "outputs": [],
   "source": [
    "arr1 = [1, 0, 0]\n",
    "arr2 = [arr1 for _ in range(5)]"
   ]
  },
  {
   "cell_type": "code",
   "execution_count": 25,
   "metadata": {
    "collapsed": true
   },
   "outputs": [],
   "source": [
    "arr2[0][0] = 0"
   ]
  },
  {
   "cell_type": "code",
   "execution_count": 26,
   "metadata": {},
   "outputs": [
    {
     "data": {
      "text/plain": [
       "0"
      ]
     },
     "execution_count": 26,
     "metadata": {},
     "output_type": "execute_result"
    }
   ],
   "source": [
    "arr2[1][0]"
   ]
  },
  {
   "cell_type": "code",
   "execution_count": 29,
   "metadata": {},
   "outputs": [
    {
     "data": {
      "text/plain": [
       "array([list([0, 1, 2, 3]), list([0, 1]), list([0, 1, 2, 3]), list([0, 1]),\n",
       "       list([0, 1, 2, 3]), list([0, 1]), list([0, 1, 2, 3]), list([0, 1]),\n",
       "       list([0, 1, 2, 3]), list([0, 1]), list([0, 1, 2, 3]), list([0, 1]),\n",
       "       list([0, 1, 2, 3]), list([0, 1]), list([0, 1, 2, 3]), list([0, 1]),\n",
       "       list([0, 1, 2, 3]), list([0, 1]), list([0, 1, 2, 3]), list([0, 1])], dtype=object)"
      ]
     },
     "execution_count": 29,
     "metadata": {},
     "output_type": "execute_result"
    }
   ],
   "source": [
    "np.concatenate([[[0,1,2,3],[0,1]] for _ in range(10)])"
   ]
  },
  {
   "cell_type": "code",
   "execution_count": 31,
   "metadata": {
    "collapsed": true
   },
   "outputs": [],
   "source": [
    "import matplotlib.pyplot as plt"
   ]
  },
  {
   "cell_type": "code",
   "execution_count": 51,
   "metadata": {},
   "outputs": [
    {
     "data": {
      "image/png": "[encoded data removed]",
      "text/plain": [
       "<matplotlib.figure.Figure at 0x182209eb38>"
      ]
     },
     "metadata": {},
     "output_type": "display_data"
    }
   ],
   "source": [
    "plt.scatter([1,2,3], [2,3,4])\n",
    "plt.title(\"State vs action\")\n",
    "plt.show()"
   ]
  },
  {
   "cell_type": "code",
   "execution_count": 47,
   "metadata": {
    "collapsed": true
   },
   "outputs": [],
   "source": [
    "plt.clf()"
   ]
  },
  {
   "cell_type": "code",
   "execution_count": 57,
   "metadata": {},
   "outputs": [
    {
     "data": {
      "text/plain": [
       "<matplotlib.collections.PathCollection at 0x181f7d4780>"
      ]
     },
     "execution_count": 57,
     "metadata": {},
     "output_type": "execute_result"
    }
   ],
   "source": [
    "plt.scatter(np.array([2,3,4]), [1,2,3])"
   ]
  },
  {
   "cell_type": "code",
   "execution_count": 63,
   "metadata": {},
   "outputs": [
    {
     "data": {
      "text/plain": [
       "array([0, 0])"
      ]
     },
     "execution_count": 63,
     "metadata": {},
     "output_type": "execute_result"
    }
   ],
   "source": [
    "arr = np.array([[0,0,0],[0,0,0]])\n",
    "arr[:, 2]"
   ]
  },
  {
   "cell_type": "code",
   "execution_count": 66,
   "metadata": {
    "collapsed": true
   },
   "outputs": [],
   "source": [
    "from gym.envs.mujoco.half_cheetah import HalfCheetahEnv"
   ]
  },
  {
   "cell_type": "code",
   "execution_count": 70,
   "metadata": {
    "collapsed": true
   },
   "outputs": [],
   "source": [
    "newenv = HalfCheetahEnv()"
   ]
  },
  {
   "cell_type": "code",
   "execution_count": 71,
   "metadata": {},
   "outputs": [
    {
     "data": {
      "text/plain": [
       "(17,)"
      ]
     },
     "execution_count": 71,
     "metadata": {},
     "output_type": "execute_result"
    }
   ],
   "source": [
    "newenv.observation_space.shape"
   ]
  },
  {
   "cell_type": "code",
   "execution_count": null,
   "metadata": {
    "collapsed": true
   },
   "outputs": [],
   "source": []
  }
 ],
 "metadata": {
  "kernelspec": {
   "display_name": "Python 3",
   "language": "python",
   "name": "python3"
  },
  "language_info": {
   "codemirror_mode": {
    "name": "ipython",
    "version": 3
   },
   "file_extension": ".py",
   "mimetype": "text/x-python",
   "name": "python",
   "nbconvert_exporter": "python",
   "pygments_lexer": "ipython3",
   "version": "3.6.3"
  }
 },
 "nbformat": 4,
 "nbformat_minor": 2
}
